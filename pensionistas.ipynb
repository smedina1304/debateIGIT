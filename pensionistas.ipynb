{
 "cells": [
  {
   "cell_type": "code",
   "execution_count": 7,
   "id": "683aee59-a997-4e57-a293-386a6f7a3540",
   "metadata": {},
   "outputs": [],
   "source": [
    "from pyspark.sql import SparkSession\n",
    "import pyspark.sql.functions as f\n",
    "import pandas as pd\n",
    "\n",
    "import findspark\n",
    "findspark.init()\n",
    "\n",
    "spark = SparkSession.builder.getOrCreate()"
   ]
  },
  {
   "cell_type": "code",
   "execution_count": 50,
   "id": "7517434f-d53c-4e98-b9c7-a350903ff63e",
   "metadata": {},
   "outputs": [],
   "source": [
    "import requests as r\n",
    "import zipfile as z"
   ]
  },
  {
   "cell_type": "code",
   "execution_count": 64,
   "id": "c2cf1e81-188e-4846-b24b-14e808c1762e",
   "metadata": {},
   "outputs": [
    {
     "ename": "FileNotFoundError",
     "evalue": "[Errno 2] No such file or directory: './raw/PENSIONISTAS.zip'",
     "output_type": "error",
     "traceback": [
      "\u001b[1;31m---------------------------------------------------------------------------\u001b[0m",
      "\u001b[1;31mFileNotFoundError\u001b[0m                         Traceback (most recent call last)",
      "\u001b[1;32m<ipython-input-64-ac65f2cb000f>\u001b[0m in \u001b[0;36m<module>\u001b[1;34m\u001b[0m\n\u001b[0;32m      5\u001b[0m \u001b[0mreq\u001b[0m \u001b[1;33m=\u001b[0m \u001b[0mrequests\u001b[0m\u001b[1;33m.\u001b[0m\u001b[0mget\u001b[0m\u001b[1;33m(\u001b[0m\u001b[0mzipUrl\u001b[0m\u001b[1;33m)\u001b[0m\u001b[1;33m\u001b[0m\u001b[1;33m\u001b[0m\u001b[0m\n\u001b[0;32m      6\u001b[0m \u001b[0mdirOut\u001b[0m \u001b[1;33m=\u001b[0m \u001b[1;33m(\u001b[0m \u001b[0moutPath\u001b[0m \u001b[1;33m+\u001b[0m \u001b[1;34m'PENSIONISTAS.zip'\u001b[0m \u001b[1;33m)\u001b[0m\u001b[1;33m\u001b[0m\u001b[1;33m\u001b[0m\u001b[0m\n\u001b[1;32m----> 7\u001b[1;33m \u001b[1;32mwith\u001b[0m \u001b[0mopen\u001b[0m\u001b[1;33m(\u001b[0m\u001b[0mdirOut\u001b[0m\u001b[1;33m,\u001b[0m \u001b[1;34m'wb'\u001b[0m\u001b[1;33m)\u001b[0m \u001b[1;32mas\u001b[0m \u001b[0mf\u001b[0m\u001b[1;33m:\u001b[0m\u001b[1;33m\u001b[0m\u001b[1;33m\u001b[0m\u001b[0m\n\u001b[0m\u001b[0;32m      8\u001b[0m             \u001b[0mf\u001b[0m\u001b[1;33m.\u001b[0m\u001b[0mwrite\u001b[0m\u001b[1;33m(\u001b[0m\u001b[0mreq\u001b[0m\u001b[1;33m.\u001b[0m\u001b[0mcontent\u001b[0m\u001b[1;33m)\u001b[0m\u001b[1;33m\u001b[0m\u001b[1;33m\u001b[0m\u001b[0m\n\u001b[0;32m      9\u001b[0m             \u001b[0mf\u001b[0m\u001b[1;33m.\u001b[0m\u001b[0mclose\u001b[0m\u001b[1;33m(\u001b[0m\u001b[1;33m)\u001b[0m\u001b[1;33m\u001b[0m\u001b[1;33m\u001b[0m\u001b[0m\n",
      "\u001b[1;31mFileNotFoundError\u001b[0m: [Errno 2] No such file or directory: './raw/PENSIONISTAS.zip'"
     ]
    }
   ],
   "source": [
    "## baixar arquivo direto da fonte\n",
    "zipUrl = 'http://repositorio.dados.gov.br/segrt/pensionistas/PENSIONISTAS_082021.zip'\n",
    "outPath = './raw/'\n",
    "\n",
    "req = requests.get(zipUrl)\n",
    "dirOut = ( outPath + 'PENSIONISTAS.zip' )\n",
    "with open(dirOut, 'wb') as f:\n",
    "            f.write(req.content)\n",
    "            f.close()"
   ]
  },
  {
   "cell_type": "markdown",
   "id": "762f7111-9fd0-4103-9d3c-44cb437c7496",
   "metadata": {},
   "source": [
    "### leitura dos datasets"
   ]
  },
  {
   "cell_type": "code",
   "execution_count": null,
   "id": "c3bce9b4-084b-4c6f-b6e4-f3bd2068337e",
   "metadata": {},
   "outputs": [],
   "source": [
    "\n",
    "df_pensionistas = (\n",
    "    spark\n",
    "    .read\n",
    "    .format('csv')\n",
    "    .option('sep',';')\n",
    "    .option('header',True)\n",
    "    .load('PENSIONISTAS_082021.csv')\n",
    ")"
   ]
  },
  {
   "cell_type": "code",
   "execution_count": 20,
   "id": "97c559dd-3a04-435a-9ce1-372a15577a2e",
   "metadata": {},
   "outputs": [
    {
     "data": {
      "text/plain": [
       "Row(NOME DO SERVIDOR INSTITUIDOR='ABELINO ABRANCHES DE ALMEIDA', CPF SERVIDOR INSTITUIDOR='***526847**', DATA NASCIMENTO INSTITUIDOR='06041924', DATA FALECIMENTO INSTITUIDOR='29012021', MATRICULA SERVIDOR INSTITUIDOR='130000000001', NOME DO ORGAO='MINIST.DA AGRICULTURA,PECUARIA E ABAST.', SIGLA DO ORGAO='MAPA', CODIGO ORGAO SUPERIOR='0', CARGO SERVIDOR INSTITUIDOR='AGENTE ADMINISTRATIVO', NIVEL ESCOLARIDADE CARGO='NIVEL INTERMEDIARIO', CLASSE SERVIDOR INSTITUIDOR='S', PADRAO SERVIDOR INSTITUIDOR='III', REFERENCIA SERVIDOR INSTITUIDOR='00', NIVEL SERVIDOR INSTITUIDOR='000', OCORRENCIA DE INGRESSO NO SERVICO PUBLICO SERVIDOR INSTITUIDOR='NOMEACAO PARA CARGO', DATA DE OCORRENCIA DE INGRESSO NO SERVICO PUBLICO SERVIDOR INSTITUIDOR='13101945', NOME DO BENEFICIARIO='MARIA DA CRUZ DOS SANTOS', CPF DO BENEFICIARIO='***973491**', DATA DE NASCIMENTO='28011955', UF DA UPAG DE VINCULACAO='DF', TIPO DE BENEFICIARIO='CONJUGE', TIPO PENSAO='ART. 23 EC 103/2019', NATUREZA PENSAO='VITALICIA', DATA INICIO DO BENEFICIO='29012021', DATA FIM DO BENEFICIO='00000000', RENDIMENTO BRUTO='      3.039,58', RENDIMENTO LIQUIDO='      3.039,58', PAGAMENTO SUSPENSO='NAO', _c28='                                                                                                                                                                                                                                                                                                                                                                                                    ')"
      ]
     },
     "execution_count": 20,
     "metadata": {},
     "output_type": "execute_result"
    }
   ],
   "source": [
    "df_pensionistas.head()"
   ]
  },
  {
   "cell_type": "code",
   "execution_count": 81,
   "id": "2dc39943-3bac-4823-97c4-f487b776ad2f",
   "metadata": {},
   "outputs": [],
   "source": [
    "cols = ['NOME DO BENEFICIARIO', \n",
    "        'NOME DO ORGAO',\n",
    "        'DATA DE NASCIMENTO',\n",
    "        'UF DA UPAG DE VINCULACAO',\n",
    "        'NATUREZA PENSAO',\n",
    "        'DATA INICIO DO BENEFICIO',\n",
    "        'DATA FIM DO BENEFICIO',\n",
    "        'RENDIMENTO LIQUIDO',\n",
    "        'PAGAMENTO SUSPENSO']\n",
    "\n",
    "\n",
    "df = df_pensionistas.select(cols)"
   ]
  },
  {
   "cell_type": "code",
   "execution_count": 29,
   "id": "1ebcdf86-c034-4e35-b106-d14c2c8985cd",
   "metadata": {},
   "outputs": [
    {
     "data": {
      "text/plain": [
       "Row(NOME DO BENEFICIARIO='MARIA DA CRUZ DOS SANTOS', NOME DO ORGAO='MINIST.DA AGRICULTURA,PECUARIA E ABAST.', DATA DE NASCIMENTO='28011955', UF DA UPAG DE VINCULACAO='DF', NATUREZA PENSAO='VITALICIA', DATA INICIO DO BENEFICIO='29012021', DATA FIM DO BENEFICIO='00000000', RENDIMENTO LIQUIDO='      3.039,58', PAGAMENTO SUSPENSO='NAO')"
      ]
     },
     "execution_count": 29,
     "metadata": {},
     "output_type": "execute_result"
    }
   ],
   "source": [
    "df.head()"
   ]
  },
  {
   "cell_type": "code",
   "execution_count": 82,
   "id": "b6abd317-d747-421d-bd8f-1908862c0dc6",
   "metadata": {},
   "outputs": [],
   "source": [
    "df = (df\n",
    " .withColumnRenamed('NOME DO BENEFICIARIO','nome')\n",
    " .withColumnRenamed('NOME DO ORGAO','orgao')\n",
    " .withColumnRenamed('DATA DE NASCIMENTO','dtnas')\n",
    " .withColumnRenamed('UF DA UPAG DE VINCULACAO','uf')\n",
    " .withColumnRenamed('NATUREZA PENSAO','natpensao')\n",
    " .withColumnRenamed('DATA INICIO DO BENEFICIO','dtiniben')\n",
    " .withColumnRenamed('DATA FIM DO BENEFICIO','dtfimben')\n",
    " .withColumnRenamed('RENDIMENTO LIQUIDO','rendLiquido')\n",
    " .withColumnRenamed('PAGAMENTO SUSPENSO','pagsuspenso')\n",
    ")"
   ]
  },
  {
   "cell_type": "code",
   "execution_count": 83,
   "id": "b0ea408f-5524-44ff-8d37-5b3dcd1a1556",
   "metadata": {},
   "outputs": [],
   "source": [
    "df = df.toPandas()"
   ]
  },
  {
   "cell_type": "code",
   "execution_count": 77,
   "id": "b34b0544-4022-4333-b281-cb957a3994bd",
   "metadata": {},
   "outputs": [
    {
     "ename": "AttributeError",
     "evalue": "'DataFrame' object has no attribute 'to_csv'",
     "output_type": "error",
     "traceback": [
      "\u001b[1;31m---------------------------------------------------------------------------\u001b[0m",
      "\u001b[1;31mAttributeError\u001b[0m                            Traceback (most recent call last)",
      "\u001b[1;32m<ipython-input-77-62f69a874260>\u001b[0m in \u001b[0;36m<module>\u001b[1;34m\u001b[0m\n\u001b[1;32m----> 1\u001b[1;33m \u001b[0mdf\u001b[0m\u001b[1;33m.\u001b[0m\u001b[0mto_csv\u001b[0m\u001b[1;33m(\u001b[0m\u001b[1;34m'pensionistasfederal.csv'\u001b[0m\u001b[1;33m,\u001b[0m \u001b[0mindex\u001b[0m\u001b[1;33m=\u001b[0m\u001b[1;32mFalse\u001b[0m\u001b[1;33m)\u001b[0m\u001b[1;33m\u001b[0m\u001b[1;33m\u001b[0m\u001b[0m\n\u001b[0m",
      "\u001b[1;32mC:\\ProgramData\\Anaconda3\\lib\\site-packages\\pyspark\\sql\\dataframe.py\u001b[0m in \u001b[0;36m__getattr__\u001b[1;34m(self, name)\u001b[0m\n\u001b[0;32m   1641\u001b[0m         \"\"\"\n\u001b[0;32m   1642\u001b[0m         \u001b[1;32mif\u001b[0m \u001b[0mname\u001b[0m \u001b[1;32mnot\u001b[0m \u001b[1;32min\u001b[0m \u001b[0mself\u001b[0m\u001b[1;33m.\u001b[0m\u001b[0mcolumns\u001b[0m\u001b[1;33m:\u001b[0m\u001b[1;33m\u001b[0m\u001b[1;33m\u001b[0m\u001b[0m\n\u001b[1;32m-> 1643\u001b[1;33m             raise AttributeError(\n\u001b[0m\u001b[0;32m   1644\u001b[0m                 \"'%s' object has no attribute '%s'\" % (self.__class__.__name__, name))\n\u001b[0;32m   1645\u001b[0m         \u001b[0mjc\u001b[0m \u001b[1;33m=\u001b[0m \u001b[0mself\u001b[0m\u001b[1;33m.\u001b[0m\u001b[0m_jdf\u001b[0m\u001b[1;33m.\u001b[0m\u001b[0mapply\u001b[0m\u001b[1;33m(\u001b[0m\u001b[0mname\u001b[0m\u001b[1;33m)\u001b[0m\u001b[1;33m\u001b[0m\u001b[1;33m\u001b[0m\u001b[0m\n",
      "\u001b[1;31mAttributeError\u001b[0m: 'DataFrame' object has no attribute 'to_csv'"
     ]
    }
   ],
   "source": [
    "df.to_csv('pensionistasfederal.csv', index=False)"
   ]
  }
 ],
 "metadata": {
  "kernelspec": {
   "display_name": "Python 3",
   "language": "python",
   "name": "python3"
  },
  "language_info": {
   "codemirror_mode": {
    "name": "ipython",
    "version": 3
   },
   "file_extension": ".py",
   "mimetype": "text/x-python",
   "name": "python",
   "nbconvert_exporter": "python",
   "pygments_lexer": "ipython3",
   "version": "3.8.8"
  }
 },
 "nbformat": 4,
 "nbformat_minor": 5
}
